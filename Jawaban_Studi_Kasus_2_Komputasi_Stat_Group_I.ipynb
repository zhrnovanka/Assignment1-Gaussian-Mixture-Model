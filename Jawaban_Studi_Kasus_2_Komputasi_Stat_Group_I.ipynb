{
  "nbformat": 4,
  "nbformat_minor": 0,
  "metadata": {
    "colab": {
      "provenance": [],
      "collapsed_sections": [],
      "include_colab_link": true
    },
    "kernelspec": {
      "name": "python3",
      "display_name": "Python 3"
    },
    "language_info": {
      "name": "python"
    }
  },
  "cells": [
    {
      "cell_type": "markdown",
      "metadata": {
        "id": "view-in-github",
        "colab_type": "text"
      },
      "source": [
        "<a href=\"https://colab.research.google.com/github/zhrnovanka/Assignment1-Gaussian-Mixture-Model/blob/main/Jawaban_Studi_Kasus_2_Komputasi_Stat_Group_I.ipynb\" target=\"_parent\"><img src=\"https://colab.research.google.com/assets/colab-badge.svg\" alt=\"Open In Colab\"/></a>"
      ]
    },
    {
      "cell_type": "markdown",
      "source": [
        "# **LATIHAN 2 - Expectation Maximization**\n",
        "## **Anggota Kelompok I :**\n",
        "### 1) Timothy Devan Chandra (1906375726)\n",
        "### 2) Yudistira Dwi Cahya (2006530942)\n",
        "### 3) Jovina Nareswari Hubballillah (2106708223)\n",
        "### 4) Zahra Novanka (1806185834)"
      ],
      "metadata": {
        "id": "eGhENxPjNrzh"
      }
    },
    {
      "cell_type": "markdown",
      "source": [
        "**IMPOR MODUL DAN DATA**\n",
        "\n",
        "Terlebih dahulu dilakukan impor modul ke dalam program yang akan dibuat. Dengan mengimpor modul, maka definisi, variabel, fungsi, dan yang lainnya yang terdapat pada modul tersebut dapat dipergunakan. Melakukan pengambilan data yang ingin digunakan dari sumber yang telah diperoleh."
      ],
      "metadata": {
        "id": "zt8GfogEPiv5"
      }
    },
    {
      "cell_type": "code",
      "execution_count": null,
      "metadata": {
        "colab": {
          "base_uri": "https://localhost:8080/",
          "height": 206
        },
        "id": "UX7GpVeR8uys",
        "outputId": "dc454c09-9205-49c3-bd8e-c3e5500a77b9"
      },
      "outputs": [
        {
          "output_type": "execute_result",
          "data": {
            "text/plain": [
              "   Id  SepalLengthCm  SepalWidthCm  PetalLengthCm  PetalWidthCm      Species\n",
              "0   1            5.1           3.5            1.4           0.2  Iris-setosa\n",
              "1   2            4.9           3.0            1.4           0.2  Iris-setosa\n",
              "2   3            4.7           3.2            1.3           0.2  Iris-setosa\n",
              "3   4            4.6           3.1            1.5           0.2  Iris-setosa\n",
              "4   5            5.0           3.6            1.4           0.2  Iris-setosa"
            ],
            "text/html": [
              "\n",
              "  <div id=\"df-c9f5cc90-3cb7-44d4-81ca-a6df59d9ccd8\">\n",
              "    <div class=\"colab-df-container\">\n",
              "      <div>\n",
              "<style scoped>\n",
              "    .dataframe tbody tr th:only-of-type {\n",
              "        vertical-align: middle;\n",
              "    }\n",
              "\n",
              "    .dataframe tbody tr th {\n",
              "        vertical-align: top;\n",
              "    }\n",
              "\n",
              "    .dataframe thead th {\n",
              "        text-align: right;\n",
              "    }\n",
              "</style>\n",
              "<table border=\"1\" class=\"dataframe\">\n",
              "  <thead>\n",
              "    <tr style=\"text-align: right;\">\n",
              "      <th></th>\n",
              "      <th>Id</th>\n",
              "      <th>SepalLengthCm</th>\n",
              "      <th>SepalWidthCm</th>\n",
              "      <th>PetalLengthCm</th>\n",
              "      <th>PetalWidthCm</th>\n",
              "      <th>Species</th>\n",
              "    </tr>\n",
              "  </thead>\n",
              "  <tbody>\n",
              "    <tr>\n",
              "      <th>0</th>\n",
              "      <td>1</td>\n",
              "      <td>5.1</td>\n",
              "      <td>3.5</td>\n",
              "      <td>1.4</td>\n",
              "      <td>0.2</td>\n",
              "      <td>Iris-setosa</td>\n",
              "    </tr>\n",
              "    <tr>\n",
              "      <th>1</th>\n",
              "      <td>2</td>\n",
              "      <td>4.9</td>\n",
              "      <td>3.0</td>\n",
              "      <td>1.4</td>\n",
              "      <td>0.2</td>\n",
              "      <td>Iris-setosa</td>\n",
              "    </tr>\n",
              "    <tr>\n",
              "      <th>2</th>\n",
              "      <td>3</td>\n",
              "      <td>4.7</td>\n",
              "      <td>3.2</td>\n",
              "      <td>1.3</td>\n",
              "      <td>0.2</td>\n",
              "      <td>Iris-setosa</td>\n",
              "    </tr>\n",
              "    <tr>\n",
              "      <th>3</th>\n",
              "      <td>4</td>\n",
              "      <td>4.6</td>\n",
              "      <td>3.1</td>\n",
              "      <td>1.5</td>\n",
              "      <td>0.2</td>\n",
              "      <td>Iris-setosa</td>\n",
              "    </tr>\n",
              "    <tr>\n",
              "      <th>4</th>\n",
              "      <td>5</td>\n",
              "      <td>5.0</td>\n",
              "      <td>3.6</td>\n",
              "      <td>1.4</td>\n",
              "      <td>0.2</td>\n",
              "      <td>Iris-setosa</td>\n",
              "    </tr>\n",
              "  </tbody>\n",
              "</table>\n",
              "</div>\n",
              "      <button class=\"colab-df-convert\" onclick=\"convertToInteractive('df-c9f5cc90-3cb7-44d4-81ca-a6df59d9ccd8')\"\n",
              "              title=\"Convert this dataframe to an interactive table.\"\n",
              "              style=\"display:none;\">\n",
              "        \n",
              "  <svg xmlns=\"http://www.w3.org/2000/svg\" height=\"24px\"viewBox=\"0 0 24 24\"\n",
              "       width=\"24px\">\n",
              "    <path d=\"M0 0h24v24H0V0z\" fill=\"none\"/>\n",
              "    <path d=\"M18.56 5.44l.94 2.06.94-2.06 2.06-.94-2.06-.94-.94-2.06-.94 2.06-2.06.94zm-11 1L8.5 8.5l.94-2.06 2.06-.94-2.06-.94L8.5 2.5l-.94 2.06-2.06.94zm10 10l.94 2.06.94-2.06 2.06-.94-2.06-.94-.94-2.06-.94 2.06-2.06.94z\"/><path d=\"M17.41 7.96l-1.37-1.37c-.4-.4-.92-.59-1.43-.59-.52 0-1.04.2-1.43.59L10.3 9.45l-7.72 7.72c-.78.78-.78 2.05 0 2.83L4 21.41c.39.39.9.59 1.41.59.51 0 1.02-.2 1.41-.59l7.78-7.78 2.81-2.81c.8-.78.8-2.07 0-2.86zM5.41 20L4 18.59l7.72-7.72 1.47 1.35L5.41 20z\"/>\n",
              "  </svg>\n",
              "      </button>\n",
              "      \n",
              "  <style>\n",
              "    .colab-df-container {\n",
              "      display:flex;\n",
              "      flex-wrap:wrap;\n",
              "      gap: 12px;\n",
              "    }\n",
              "\n",
              "    .colab-df-convert {\n",
              "      background-color: #E8F0FE;\n",
              "      border: none;\n",
              "      border-radius: 50%;\n",
              "      cursor: pointer;\n",
              "      display: none;\n",
              "      fill: #1967D2;\n",
              "      height: 32px;\n",
              "      padding: 0 0 0 0;\n",
              "      width: 32px;\n",
              "    }\n",
              "\n",
              "    .colab-df-convert:hover {\n",
              "      background-color: #E2EBFA;\n",
              "      box-shadow: 0px 1px 2px rgba(60, 64, 67, 0.3), 0px 1px 3px 1px rgba(60, 64, 67, 0.15);\n",
              "      fill: #174EA6;\n",
              "    }\n",
              "\n",
              "    [theme=dark] .colab-df-convert {\n",
              "      background-color: #3B4455;\n",
              "      fill: #D2E3FC;\n",
              "    }\n",
              "\n",
              "    [theme=dark] .colab-df-convert:hover {\n",
              "      background-color: #434B5C;\n",
              "      box-shadow: 0px 1px 3px 1px rgba(0, 0, 0, 0.15);\n",
              "      filter: drop-shadow(0px 1px 2px rgba(0, 0, 0, 0.3));\n",
              "      fill: #FFFFFF;\n",
              "    }\n",
              "  </style>\n",
              "\n",
              "      <script>\n",
              "        const buttonEl =\n",
              "          document.querySelector('#df-c9f5cc90-3cb7-44d4-81ca-a6df59d9ccd8 button.colab-df-convert');\n",
              "        buttonEl.style.display =\n",
              "          google.colab.kernel.accessAllowed ? 'block' : 'none';\n",
              "\n",
              "        async function convertToInteractive(key) {\n",
              "          const element = document.querySelector('#df-c9f5cc90-3cb7-44d4-81ca-a6df59d9ccd8');\n",
              "          const dataTable =\n",
              "            await google.colab.kernel.invokeFunction('convertToInteractive',\n",
              "                                                     [key], {});\n",
              "          if (!dataTable) return;\n",
              "\n",
              "          const docLinkHtml = 'Like what you see? Visit the ' +\n",
              "            '<a target=\"_blank\" href=https://colab.research.google.com/notebooks/data_table.ipynb>data table notebook</a>'\n",
              "            + ' to learn more about interactive tables.';\n",
              "          element.innerHTML = '';\n",
              "          dataTable['output_type'] = 'display_data';\n",
              "          await google.colab.output.renderOutput(dataTable, element);\n",
              "          const docLink = document.createElement('div');\n",
              "          docLink.innerHTML = docLinkHtml;\n",
              "          element.appendChild(docLink);\n",
              "        }\n",
              "      </script>\n",
              "    </div>\n",
              "  </div>\n",
              "  "
            ]
          },
          "metadata": {},
          "execution_count": 154
        }
      ],
      "source": [
        "import pandas as pd\n",
        "\n",
        "url = 'https://raw.githubusercontent.com/timothydevann/Assignment1-Gaussian-Mixture-Model/main/Iris.csv'\n",
        "data = pd.read_csv(url)\n",
        "data.head()"
      ]
    },
    {
      "cell_type": "code",
      "source": [
        "data1 = data.drop([\"Id\",\"Species\",\"SepalLengthCm\",\"SepalWidthCm\"], axis=1)"
      ],
      "metadata": {
        "id": "SnkF2avjGSTq"
      },
      "execution_count": null,
      "outputs": []
    },
    {
      "cell_type": "code",
      "source": [
        "data2 = data.drop([\"Id\",\"Species\",\"PetalLengthCm\",\"PetalWidthCm\"], axis=1)"
      ],
      "metadata": {
        "id": "JaN_wjfcNZP_"
      },
      "execution_count": null,
      "outputs": []
    },
    {
      "cell_type": "code",
      "source": [
        "#Clustering Data (data Petal)\n",
        "#Menentukan 2 jenis data (data Petal) yang akan dipakai terlebih dahulu.\n",
        "data1.head()"
      ],
      "metadata": {
        "colab": {
          "base_uri": "https://localhost:8080/"
        },
        "id": "6LXawm84GZMj",
        "outputId": "32b3dd05-b586-418f-c8a1-692d2178b2d4"
      },
      "execution_count": null,
      "outputs": [
        {
          "output_type": "stream",
          "name": "stdout",
          "text": [
            "     PetalLengthCm  PetalWidthCm\n",
            "0              1.4           0.2\n",
            "1              1.4           0.2\n",
            "2              1.3           0.2\n",
            "3              1.5           0.2\n",
            "4              1.4           0.2\n",
            "..             ...           ...\n",
            "145            5.2           2.3\n",
            "146            5.0           1.9\n",
            "147            5.2           2.0\n",
            "148            5.4           2.3\n",
            "149            5.1           1.8\n",
            "\n",
            "[150 rows x 2 columns]\n"
          ]
        }
      ]
    },
    {
      "cell_type": "code",
      "source": [
        "#Clustering Data (data Sepal)\n",
        "#Menentukan 2 jenis data (data Sepal).\n",
        "data2.head()"
      ],
      "metadata": {
        "id": "SxRR58SnNfkG",
        "outputId": "711f93af-38cb-4306-af64-2c7078320c8d",
        "colab": {
          "base_uri": "https://localhost:8080/",
          "height": 206
        }
      },
      "execution_count": null,
      "outputs": [
        {
          "output_type": "execute_result",
          "data": {
            "text/plain": [
              "   SepalLengthCm  SepalWidthCm\n",
              "0            5.1           3.5\n",
              "1            4.9           3.0\n",
              "2            4.7           3.2\n",
              "3            4.6           3.1\n",
              "4            5.0           3.6"
            ],
            "text/html": [
              "\n",
              "  <div id=\"df-d2b709bc-e01b-4f9f-8761-95994c9e39ad\">\n",
              "    <div class=\"colab-df-container\">\n",
              "      <div>\n",
              "<style scoped>\n",
              "    .dataframe tbody tr th:only-of-type {\n",
              "        vertical-align: middle;\n",
              "    }\n",
              "\n",
              "    .dataframe tbody tr th {\n",
              "        vertical-align: top;\n",
              "    }\n",
              "\n",
              "    .dataframe thead th {\n",
              "        text-align: right;\n",
              "    }\n",
              "</style>\n",
              "<table border=\"1\" class=\"dataframe\">\n",
              "  <thead>\n",
              "    <tr style=\"text-align: right;\">\n",
              "      <th></th>\n",
              "      <th>SepalLengthCm</th>\n",
              "      <th>SepalWidthCm</th>\n",
              "    </tr>\n",
              "  </thead>\n",
              "  <tbody>\n",
              "    <tr>\n",
              "      <th>0</th>\n",
              "      <td>5.1</td>\n",
              "      <td>3.5</td>\n",
              "    </tr>\n",
              "    <tr>\n",
              "      <th>1</th>\n",
              "      <td>4.9</td>\n",
              "      <td>3.0</td>\n",
              "    </tr>\n",
              "    <tr>\n",
              "      <th>2</th>\n",
              "      <td>4.7</td>\n",
              "      <td>3.2</td>\n",
              "    </tr>\n",
              "    <tr>\n",
              "      <th>3</th>\n",
              "      <td>4.6</td>\n",
              "      <td>3.1</td>\n",
              "    </tr>\n",
              "    <tr>\n",
              "      <th>4</th>\n",
              "      <td>5.0</td>\n",
              "      <td>3.6</td>\n",
              "    </tr>\n",
              "  </tbody>\n",
              "</table>\n",
              "</div>\n",
              "      <button class=\"colab-df-convert\" onclick=\"convertToInteractive('df-d2b709bc-e01b-4f9f-8761-95994c9e39ad')\"\n",
              "              title=\"Convert this dataframe to an interactive table.\"\n",
              "              style=\"display:none;\">\n",
              "        \n",
              "  <svg xmlns=\"http://www.w3.org/2000/svg\" height=\"24px\"viewBox=\"0 0 24 24\"\n",
              "       width=\"24px\">\n",
              "    <path d=\"M0 0h24v24H0V0z\" fill=\"none\"/>\n",
              "    <path d=\"M18.56 5.44l.94 2.06.94-2.06 2.06-.94-2.06-.94-.94-2.06-.94 2.06-2.06.94zm-11 1L8.5 8.5l.94-2.06 2.06-.94-2.06-.94L8.5 2.5l-.94 2.06-2.06.94zm10 10l.94 2.06.94-2.06 2.06-.94-2.06-.94-.94-2.06-.94 2.06-2.06.94z\"/><path d=\"M17.41 7.96l-1.37-1.37c-.4-.4-.92-.59-1.43-.59-.52 0-1.04.2-1.43.59L10.3 9.45l-7.72 7.72c-.78.78-.78 2.05 0 2.83L4 21.41c.39.39.9.59 1.41.59.51 0 1.02-.2 1.41-.59l7.78-7.78 2.81-2.81c.8-.78.8-2.07 0-2.86zM5.41 20L4 18.59l7.72-7.72 1.47 1.35L5.41 20z\"/>\n",
              "  </svg>\n",
              "      </button>\n",
              "      \n",
              "  <style>\n",
              "    .colab-df-container {\n",
              "      display:flex;\n",
              "      flex-wrap:wrap;\n",
              "      gap: 12px;\n",
              "    }\n",
              "\n",
              "    .colab-df-convert {\n",
              "      background-color: #E8F0FE;\n",
              "      border: none;\n",
              "      border-radius: 50%;\n",
              "      cursor: pointer;\n",
              "      display: none;\n",
              "      fill: #1967D2;\n",
              "      height: 32px;\n",
              "      padding: 0 0 0 0;\n",
              "      width: 32px;\n",
              "    }\n",
              "\n",
              "    .colab-df-convert:hover {\n",
              "      background-color: #E2EBFA;\n",
              "      box-shadow: 0px 1px 2px rgba(60, 64, 67, 0.3), 0px 1px 3px 1px rgba(60, 64, 67, 0.15);\n",
              "      fill: #174EA6;\n",
              "    }\n",
              "\n",
              "    [theme=dark] .colab-df-convert {\n",
              "      background-color: #3B4455;\n",
              "      fill: #D2E3FC;\n",
              "    }\n",
              "\n",
              "    [theme=dark] .colab-df-convert:hover {\n",
              "      background-color: #434B5C;\n",
              "      box-shadow: 0px 1px 3px 1px rgba(0, 0, 0, 0.15);\n",
              "      filter: drop-shadow(0px 1px 2px rgba(0, 0, 0, 0.3));\n",
              "      fill: #FFFFFF;\n",
              "    }\n",
              "  </style>\n",
              "\n",
              "      <script>\n",
              "        const buttonEl =\n",
              "          document.querySelector('#df-d2b709bc-e01b-4f9f-8761-95994c9e39ad button.colab-df-convert');\n",
              "        buttonEl.style.display =\n",
              "          google.colab.kernel.accessAllowed ? 'block' : 'none';\n",
              "\n",
              "        async function convertToInteractive(key) {\n",
              "          const element = document.querySelector('#df-d2b709bc-e01b-4f9f-8761-95994c9e39ad');\n",
              "          const dataTable =\n",
              "            await google.colab.kernel.invokeFunction('convertToInteractive',\n",
              "                                                     [key], {});\n",
              "          if (!dataTable) return;\n",
              "\n",
              "          const docLinkHtml = 'Like what you see? Visit the ' +\n",
              "            '<a target=\"_blank\" href=https://colab.research.google.com/notebooks/data_table.ipynb>data table notebook</a>'\n",
              "            + ' to learn more about interactive tables.';\n",
              "          element.innerHTML = '';\n",
              "          dataTable['output_type'] = 'display_data';\n",
              "          await google.colab.output.renderOutput(dataTable, element);\n",
              "          const docLink = document.createElement('div');\n",
              "          docLink.innerHTML = docLinkHtml;\n",
              "          element.appendChild(docLink);\n",
              "        }\n",
              "      </script>\n",
              "    </div>\n",
              "  </div>\n",
              "  "
            ]
          },
          "metadata": {},
          "execution_count": 161
        }
      ]
    },
    {
      "cell_type": "markdown",
      "source": [
        "# KMeans"
      ],
      "metadata": {
        "id": "gsIKrmNRTMoX"
      }
    },
    {
      "cell_type": "markdown",
      "source": [
        "K-Means digunakan untuk meminimalisasikan fungsi objective yang telah di set dalam proses clustering. Tujuan ini dilakukan dengan cara meminimalikan variasi data yang ada didalam cluster dan memaksimalikan variasi data yang ada di cluster lainnya."
      ],
      "metadata": {
        "id": "HAKJGGr5W_KQ"
      }
    },
    {
      "cell_type": "code",
      "source": [
        "#training k-means model (Data Petal)\n",
        "from matplotlib import pyplot as plt\n",
        "from sklearn.cluster import KMeans\n",
        "kmeans = KMeans(n_clusters=3)\n",
        "kmeans.fit(data1)"
      ],
      "metadata": {
        "colab": {
          "base_uri": "https://localhost:8080/"
        },
        "id": "J1fAXYQeCf1_",
        "outputId": "b322c109-a7ce-47f8-baf3-eccf375c9610"
      },
      "execution_count": null,
      "outputs": [
        {
          "output_type": "execute_result",
          "data": {
            "text/plain": [
              "KMeans(n_clusters=3)"
            ]
          },
          "metadata": {},
          "execution_count": 157
        }
      ]
    },
    {
      "cell_type": "code",
      "source": [
        "#predictions from kmeans (Data Petal)\n",
        "pred = kmeans.predict(data1)\n",
        "frame = pd.DataFrame(data1)\n",
        "frame['cluster'] = pred\n",
        "frame.columns = ['PetalLengthCm', 'PetalWidthCm', 'cluster']"
      ],
      "metadata": {
        "id": "F6D9aEtfGlV5"
      },
      "execution_count": null,
      "outputs": []
    },
    {
      "cell_type": "code",
      "source": [
        "#plotting results (Data Petal)\n",
        "color=['blue', 'green', 'cyan', 'black']\n",
        "for k in range(0,4):\n",
        "    datapetal = frame[frame[\"cluster\"]==k]\n",
        "    plt.scatter(datapetal[\"PetalLengthCm\"], datapetal[\"PetalWidthCm\"], c=color[k])\n",
        "plt.show()"
      ],
      "metadata": {
        "id": "3XZ0t8aLHGru",
        "colab": {
          "base_uri": "https://localhost:8080/",
          "height": 265
        },
        "outputId": "f832b799-076a-4107-a3e0-5f1071206962"
      },
      "execution_count": null,
      "outputs": [
        {
          "output_type": "display_data",
          "data": {
            "text/plain": [
              "<Figure size 432x288 with 1 Axes>"
            ],
            "image/png": "[encoded data removed]"
          },
          "metadata": {
            "needs_background": "light"
          }
        }
      ]
    },
    {
      "cell_type": "markdown",
      "source": [
        "Analisis Model : Dapat dilihat dari grafik diatas bahwa pada data petal di cluster berwarna **biru tua** yang dibuat memiliki bentuk melingkar yang cenderung ke titik tengah pada pusatnya. Dikarenakan centroid (pusat) dari cluster nya diperbarui secara iteratif menggunakan nilai rata-rata.\n",
        "\n",
        "sedangkan untuk cluster berwarna **biru muda dan hijau** mengartikan bahwa model k-means gagal mengidentifikasi hak cluster."
      ],
      "metadata": {
        "id": "rKd4GV-MURBJ"
      }
    },
    {
      "cell_type": "code",
      "source": [
        "#training k-means model (Data Sepal) \n",
        "kmeans = KMeans(n_clusters=3)\n",
        "kmeans.fit(data2)"
      ],
      "metadata": {
        "colab": {
          "base_uri": "https://localhost:8080/"
        },
        "id": "QPtkSbq0N2PV",
        "outputId": "234ad97c-f9bb-46c1-877a-671836243693"
      },
      "execution_count": null,
      "outputs": [
        {
          "output_type": "execute_result",
          "data": {
            "text/plain": [
              "KMeans(n_clusters=3)"
            ]
          },
          "metadata": {},
          "execution_count": 162
        }
      ]
    },
    {
      "cell_type": "code",
      "source": [
        "#predictions from kmeans (Data Sepal)\n",
        "pred = kmeans.predict(data2)\n",
        "frame = pd.DataFrame(data2)\n",
        "frame['cluster'] = pred\n",
        "frame.columns = ['SepalLengthCm', 'SepalWidthCm', 'cluster']"
      ],
      "metadata": {
        "id": "WCRGlq_UN7xc"
      },
      "execution_count": null,
      "outputs": []
    },
    {
      "cell_type": "code",
      "source": [
        "#plotting results (Data Sepal)\n",
        "color=['blue', 'green', 'cyan', 'black']\n",
        "for k in range(0,4):\n",
        "    datasepal = frame[frame[\"cluster\"]==k]\n",
        "    plt.scatter(datasepal[\"SepalLengthCm\"], datasepal[\"SepalWidthCm\"], c=color[k])\n",
        "plt.show()"
      ],
      "metadata": {
        "id": "rQqMMEyfOPBr",
        "colab": {
          "base_uri": "https://localhost:8080/",
          "height": 268
        },
        "outputId": "4b6a0cb7-99d5-4225-8e83-fd4a5d55799a"
      },
      "execution_count": null,
      "outputs": [
        {
          "output_type": "display_data",
          "data": {
            "text/plain": [
              "<Figure size 432x288 with 1 Axes>"
            ],
            "image/png": "[encoded data removed]"
          },
          "metadata": {
            "needs_background": "light"
          }
        }
      ]
    },
    {
      "cell_type": "markdown",
      "source": [
        "Analisis Model : Dari grafik diatas distribusi poin tidak dalam bentuk melingkar, melainkan tersebar dan ada yang membentuk elips. Dapat diartikan bahwa k-means gagal mengidentifikasi cluster yg tepat. Maka digunakan metode model berbasis distribusi."
      ],
      "metadata": {
        "id": "0lTocmZcXENw"
      }
    },
    {
      "cell_type": "markdown",
      "source": [
        "# GMM"
      ],
      "metadata": {
        "id": "cq1UMkLzS2RG"
      }
    },
    {
      "cell_type": "markdown",
      "source": [
        "Model Campuran Gaussian (GMMs) mengasumsikan bahwa ada sejumlah distribusi Gaussian, dan masing-masing distribusi mewakili sebuah cluster. Oleh karena itu, Campuran Gaussian\n",
        "Model cenderung mengelompokkan titik-titik data milik satu distribusi bersama."
      ],
      "metadata": {
        "id": "hIz8r9_Naevu"
      }
    },
    {
      "cell_type": "code",
      "source": [
        "import pandas as pd"
      ],
      "metadata": {
        "id": "0WS5hELUHGyG"
      },
      "execution_count": null,
      "outputs": []
    },
    {
      "cell_type": "code",
      "source": [
        "from sklearn.mixture import GaussianMixture\n",
        "gmm = GaussianMixture(n_components=4)\n",
        "gmm.fit(data1)\n",
        "\n",
        "labels = gmm.predict(data1)\n",
        "frame = pd.DataFrame(data1)\n",
        "frame['cluster'] = labels\n",
        "frame.columns = ['PetalLengthCm', 'PetalWidthCm', 'cluster']\n",
        "\n",
        "color=['blue', 'green', 'cyan', 'black',]\n",
        "for k in range(0,4):\n",
        "    datapgmm = frame[frame[\"cluster\"]==k]\n",
        "    plt.scatter(datapgmm[\"PetalLengthCm\"], datapgmm[\"PetalWidthCm\"], c=color[k])\n",
        "plt.show()"
      ],
      "metadata": {
        "id": "bSZ_XqGpHG0o",
        "colab": {
          "base_uri": "https://localhost:8080/",
          "height": 265
        },
        "outputId": "fb628ca5-d9fe-45a1-d2b0-d47c9b5df5c2"
      },
      "execution_count": null,
      "outputs": [
        {
          "output_type": "display_data",
          "data": {
            "text/plain": [
              "<Figure size 432x288 with 1 Axes>"
            ],
            "image/png": "[encoded data removed]"
          },
          "metadata": {
            "needs_background": "light"
          }
        }
      ]
    },
    {
      "cell_type": "code",
      "source": [
        "from sklearn.mixture import GaussianMixture\n",
        "gmm = GaussianMixture(n_components=4)\n",
        "gmm.fit(data2)\n",
        "\n",
        "labels = gmm.predict(data2)\n",
        "frame = pd.DataFrame(data2)\n",
        "frame['cluster'] = labels\n",
        "frame.columns = ['SepalLengthCM', 'SepalWidthCm', 'cluster']\n",
        "\n",
        "color=['blue', 'green', 'cyan', 'black',]\n",
        "for k in range(0,4):\n",
        "    datasgmm = frame[frame[\"cluster\"]==k]\n",
        "    plt.scatter(datasgmm[\"SepalLengthCM\"], datasgmm[\"SepalWidthCm\"], c=color[k])\n",
        "plt.show()"
      ],
      "metadata": {
        "colab": {
          "base_uri": "https://localhost:8080/",
          "height": 268
        },
        "id": "oE8KAfoJRi9m",
        "outputId": "27ac0ac0-f630-4c57-dbc1-dd6a59917440"
      },
      "execution_count": null,
      "outputs": [
        {
          "output_type": "display_data",
          "data": {
            "text/plain": [
              "<Figure size 432x288 with 1 Axes>"
            ],
            "image/png": "[encoded data removed]"
          },
          "metadata": {
            "needs_background": "light"
          }
        }
      ]
    },
    {
      "cell_type": "code",
      "source": [
        "#Contoh Pendekatan GMM dengan EM\n",
        "# Contoh Mencoba GMM dengan jenis covarians yang berbeda pada data 2d\n",
        "estimators = dict((cov_type, GaussianMixture(n_components=3,\n",
        "                   covariance_type=cov_type, max_iter=20, random_state=0))\n",
        "                  for cov_type in ['spherical', 'diag', 'tied', 'full'])\n",
        "for (name,estimator) in estimators.items():\n",
        "    estimator.fit(iris.data[:,2:4]) ## fits mixture model menggunakan EM"
      ],
      "metadata": {
        "colab": {
          "base_uri": "https://localhost:8080/",
          "height": 202
        },
        "id": "l8hrkMNFTxD9",
        "outputId": "2055a88a-ace5-425b-d7a9-a34c2031a50a"
      },
      "execution_count": null,
      "outputs": [
        {
          "output_type": "error",
          "ename": "NameError",
          "evalue": "ignored",
          "traceback": [
            "\u001b[0;31m---------------------------------------------------------------------------\u001b[0m",
            "\u001b[0;31mNameError\u001b[0m                                 Traceback (most recent call last)",
            "\u001b[0;32m<ipython-input-186-b1cc1877518b>\u001b[0m in \u001b[0;36m<module>\u001b[0;34m\u001b[0m\n\u001b[1;32m      5\u001b[0m                   for cov_type in ['spherical', 'diag', 'tied', 'full'])\n\u001b[1;32m      6\u001b[0m \u001b[0;32mfor\u001b[0m \u001b[0;34m(\u001b[0m\u001b[0mname\u001b[0m\u001b[0;34m,\u001b[0m\u001b[0mestimator\u001b[0m\u001b[0;34m)\u001b[0m \u001b[0;32min\u001b[0m \u001b[0mestimators\u001b[0m\u001b[0;34m.\u001b[0m\u001b[0mitems\u001b[0m\u001b[0;34m(\u001b[0m\u001b[0;34m)\u001b[0m\u001b[0;34m:\u001b[0m\u001b[0;34m\u001b[0m\u001b[0;34m\u001b[0m\u001b[0m\n\u001b[0;32m----> 7\u001b[0;31m     \u001b[0mestimator\u001b[0m\u001b[0;34m.\u001b[0m\u001b[0mfit\u001b[0m\u001b[0;34m(\u001b[0m\u001b[0miris\u001b[0m\u001b[0;34m.\u001b[0m\u001b[0mdata\u001b[0m\u001b[0;34m[\u001b[0m\u001b[0;34m:\u001b[0m\u001b[0;34m,\u001b[0m\u001b[0;36m2\u001b[0m\u001b[0;34m:\u001b[0m\u001b[0;36m4\u001b[0m\u001b[0;34m]\u001b[0m\u001b[0;34m)\u001b[0m \u001b[0;31m## fits mixture model menggunakan EM\u001b[0m\u001b[0;34m\u001b[0m\u001b[0;34m\u001b[0m\u001b[0m\n\u001b[0m",
            "\u001b[0;31mNameError\u001b[0m: name 'iris' is not defined"
          ]
        }
      ]
    },
    {
      "cell_type": "code",
      "source": [
        "#Contoh Code Visualisasi GMM dengan EM dan tipe covariansi yang berbeda\n",
        "for (name,gmm) in estimators.items():\n",
        "    for n, color in enumerate(colors):\n",
        "        data = iris.data[iris.target == n]\n",
        "        plt.scatter(data[:, 2], data[:, 3], marker=markers[n])\n",
        "        if gmm.covariance_type == 'full':\n",
        "            cov = gmm.covariances_[n]\n",
        "        elif gmm.covariance_type == 'tied':\n",
        "            cov = gmm.covariances_\n",
        "        elif gmm.covariance_type == 'diag':\n",
        "            cov = np.diag(gmm.covariances_[n])\n",
        "        elif gmm.covariance_type == 'spherical':\n",
        "            cov = np.eye(gmm.means_.shape[1]) * gmm.covariances_[n]\n",
        "        #print(cov)\n",
        "        pos = estimator.means_[n]\n",
        "        #print(pos)\n",
        "        plot_cov_ellipse(cov,pos,col=color)\n",
        "    plt.title(name)\n",
        "    plt.show()"
      ],
      "metadata": {
        "id": "m-jJ79nNTzNZ"
      },
      "execution_count": null,
      "outputs": []
    }
  ]
}